{
  "nbformat": 4,
  "nbformat_minor": 0,
  "metadata": {
    "colab": {
      "provenance": [],
      "toc_visible": true,
      "include_colab_link": true
    },
    "kernelspec": {
      "name": "python3",
      "display_name": "Python 3"
    },
    "language_info": {
      "name": "python"
    }
  },
  "cells": [
    {
      "cell_type": "markdown",
      "metadata": {
        "id": "view-in-github",
        "colab_type": "text"
      },
      "source": [
        "<a href=\"https://colab.research.google.com/github/lumiere25/RainbowSong/blob/master/Copy_of_Tutorial_4_Functions.ipynb\" target=\"_parent\"><img src=\"https://colab.research.google.com/assets/colab-badge.svg\" alt=\"Open In Colab\"/></a>"
      ]
    },
    {
      "cell_type": "markdown",
      "source": [
        "# **TUTORIAL #4 - FUNCTIONS**\n",
        "<br/>\n",
        "\n",
        "\n",
        "\n",
        "\n",
        "\n"
      ],
      "metadata": {
        "id": "h7roITOPgVZ6"
      }
    },
    {
      "cell_type": "markdown",
      "source": [
        "In this tutorial, we will be revise the main topics covered in functions.\n",
        "\n",
        "> **Note:** *For a comprehensive understanding please refer to the materials on the LMS*"
      ],
      "metadata": {
        "id": "FtmgExBEH-uC"
      }
    },
    {
      "cell_type": "markdown",
      "source": [
        "## **#1. Functions**\n",
        "---\n",
        "\n",
        "Functions allow us to create a block of code, provide it a name, and then run the code anytime we call the name of the function.\n",
        "\n"
      ],
      "metadata": {
        "id": "-GAXHau1oAMK"
      }
    },
    {
      "cell_type": "markdown",
      "source": [
        "### **Basic Function Calls**\n",
        "\n",
        "\n",
        "For example, if we wanted to create a function for drawing squares or triangles"
      ],
      "metadata": {
        "id": "qSCvRsOrqpIy"
      }
    },
    {
      "cell_type": "code",
      "source": [
        "def drawSquare():\n",
        "  print(\"*****\")\n",
        "  print(\"*   *\")\n",
        "  print(\"*****\")\n",
        "\n",
        "def drawTriangle():\n",
        "  print(\"  *  \")\n",
        "  print(\" * *\")\n",
        "  print(\"*****\")\n",
        "\n",
        "\n",
        "drawTriangle()\n",
        "drawSquare()\n",
        "drawSquare()\n",
        "drawTriangle()"
      ],
      "metadata": {
        "colab": {
          "base_uri": "https://localhost:8080/"
        },
        "id": "DgwXIM5EplUY",
        "outputId": "2c183038-1570-4cf4-ab28-f585a4ec56f1"
      },
      "execution_count": null,
      "outputs": [
        {
          "output_type": "stream",
          "name": "stdout",
          "text": [
            "  *  \n",
            " * *\n",
            "*****\n",
            "*****\n",
            "*   *\n",
            "*****\n",
            "*****\n",
            "*   *\n",
            "*****\n",
            "  *  \n",
            " * *\n",
            "*****\n"
          ]
        }
      ]
    },
    {
      "cell_type": "markdown",
      "source": [
        "### **Adding Parameters**\n",
        "\n",
        "\n",
        "We can pass data to our functions via parameters.\n",
        "\n",
        "\n",
        "Take for example the following program that takes two numbers to multiply together"
      ],
      "metadata": {
        "id": "7jnhEyD3qtaa"
      }
    },
    {
      "cell_type": "code",
      "source": [
        "def mult_nums(n1, n2):\n",
        "  ans = n1 * n2\n",
        "  print(\"Answer = \", ans)\n",
        "\n",
        "\n",
        "number1 = 5\n",
        "number2 = 10\n",
        "\n",
        "mult_nums(3,4)\n",
        "mult_nums(number1,4)\n",
        "mult_nums(3,number2)\n",
        "mult_nums(number1,number2)\n"
      ],
      "metadata": {
        "colab": {
          "base_uri": "https://localhost:8080/"
        },
        "id": "oSZc39Trqyf-",
        "outputId": "20651ecb-33e9-46ec-cea9-d2ee78f45c84"
      },
      "execution_count": null,
      "outputs": [
        {
          "output_type": "stream",
          "name": "stdout",
          "text": [
            "Answer =  12\n",
            "Answer =  20\n",
            "Answer =  30\n",
            "Answer =  50\n"
          ]
        }
      ]
    },
    {
      "cell_type": "markdown",
      "source": [
        "### **Adding a Return Value**\n",
        "\n",
        "\n",
        "We can return values back to where the function was called via the `return` keyword\n",
        "\n",
        "\n",
        "Take for example the previous program - in this updated version we will return the value and print it in the main section of the program (rather than within the function)\n",
        "\n",
        "\n",
        "<br/>"
      ],
      "metadata": {
        "id": "SjZTP-Hqofmg"
      }
    },
    {
      "cell_type": "code",
      "source": [
        "def mult_nums(n1, n2):\n",
        "  ans = n1 * n2\n",
        "  return ans\n",
        "\n",
        "number1 = 5\n",
        "number2 = 10\n",
        "\n",
        "print(mult_nums(3,4))\n",
        "print(mult_nums(number1,4))\n",
        "print(mult_nums(3,number2))\n",
        "print(mult_nums(number1,number2))"
      ],
      "metadata": {
        "colab": {
          "base_uri": "https://localhost:8080/"
        },
        "id": "TOLHDLH1IFtv",
        "outputId": "1d1cde04-a405-4234-e01f-72962b66ae6a"
      },
      "execution_count": null,
      "outputs": [
        {
          "output_type": "stream",
          "name": "stdout",
          "text": [
            "12\n",
            "20\n",
            "30\n",
            "50\n"
          ]
        }
      ]
    },
    {
      "cell_type": "markdown",
      "source": [
        "<br/>"
      ],
      "metadata": {
        "id": "7sFjHRkrptRJ"
      }
    },
    {
      "cell_type": "markdown",
      "source": [
        "\n",
        "##  **#2.Your Turn**\n",
        "---"
      ],
      "metadata": {
        "id": "LTfa8ImBtsha"
      }
    },
    {
      "cell_type": "markdown",
      "source": [
        "### **Program #1 |** Learning Functions Parameters with Franklin\n",
        "---\n",
        "\n",
        "\n",
        "In this program we will simply use Franklin to make some function calls with changing parameters.\n",
        "<br/><br/>\n",
        "\n",
        ">**Note:** *Using the Turtle package is a little slow in Google Colab - so feel free to use either the installed Python distribution on your computer or another web app like trinket.io/python*\n",
        "\n",
        "\n",
        "<br/><br/>\n",
        "\n",
        "#### **Note:** Installing Packages\n",
        "---\n",
        "Later in the course we will look at packages in more detail, but for now it is enough to know the basics:\n",
        "\n",
        "\n",
        "*   Packages extend functionality\n",
        "*   You only need to install packages once\n",
        "*   We use the command !pip to install our packages in Colab\n",
        "\n",
        "Therefore, run the code in the next code window and see how a package is installed into the notebook<br>\n",
        "\n",
        "\n"
      ],
      "metadata": {
        "id": "2uifW04Is2EE"
      }
    },
    {
      "cell_type": "code",
      "source": [
        "!pip3 install ColabTurtlePlus"
      ],
      "metadata": {
        "colab": {
          "base_uri": "https://localhost:8080/"
        },
        "id": "pbSaU8FV0vB7",
        "outputId": "f9ed9e68-d6d7-4467-b733-f65fd18c823d"
      },
      "execution_count": 4,
      "outputs": [
        {
          "output_type": "stream",
          "name": "stdout",
          "text": [
            "Collecting ColabTurtlePlus\n",
            "  Using cached ColabTurtlePlus-2.0.1-py3-none-any.whl.metadata (10 kB)\n",
            "Using cached ColabTurtlePlus-2.0.1-py3-none-any.whl (31 kB)\n",
            "Installing collected packages: ColabTurtlePlus\n",
            "Successfully installed ColabTurtlePlus-2.0.1\n"
          ]
        }
      ]
    },
    {
      "cell_type": "markdown",
      "source": [
        "<br/>\n",
        "\n",
        "\n"
      ],
      "metadata": {
        "id": "iFiLJQ0LMxo6"
      }
    },
    {
      "cell_type": "code",
      "source": [
        "# Student Name:   Chrissa Hanna\n",
        "# Student Number: 104793\n",
        "\n",
        "\n",
        "import ColabTurtlePlus.Turtle as t\n",
        "import random\n",
        "\n",
        "# SETUP\n",
        "t.initializeTurtle()\n",
        "t.setup(350,350)    # The size of the window (x [width], y [height])\n",
        "\n",
        "t.speed(5)          # The speed of Franklin the Turtle\n",
        "\n",
        "t.bgcolor(\"white\")  # Change the background colour of the page\n",
        "t.color(\"hotpink\")     # Change the colour of the pen\n",
        "t.width(8)          # Change the width of the pen\n",
        "\n",
        "\n",
        "# [1] Loop for the number of lines to draw\n",
        "for x in range(300):\n",
        "\n",
        "    #[2] The colour to use (currently uses the loop index to modify over time)\n",
        "    cols1 = \"rgb(\"+ str(max(0,255-x)) + \",\" +str(max(0,255-x//2)) + \",\" + str(max(0,255-x//3))+ \")\"\n",
        "    t.pencolor(cols1)\n",
        "\n",
        "    t.forward(x*1)\n",
        "    t.left(120.1)\n"
      ],
      "metadata": {
        "id": "6_CTo-8Rjbu3",
        "colab": {
          "base_uri": "https://localhost:8080/",
          "height": 676
        },
        "outputId": "d1ed34b7-60e9-4d0b-b67d-c400bd4fb73a"
      },
      "execution_count": 4,
      "outputs": [
        {
          "output_type": "display_data",
          "data": {
            "text/plain": [
              "<IPython.core.display.HTML object>"
            ],
            "text/html": [
              "\n",
              "      <svg width=\"350\" height=\"350\">  \n",
              "        <rect width=\"100%\" height=\"100%\" style=\"fill:white;stroke:;stroke-width:1\"/>\n",
              "        \n",
              "        \n",
              "        <line x1=\"175.0\" y1=\"175.0\" x2=\"175.0\" y2=\"175.0\" stroke-linecap=\"round\" style=\"stroke:rgb(255,255,255);stroke-width:8\" /><line x1=\"175.0\" y1=\"175.0\" x2=\"174.498\" y2=\"174.135\" stroke-linecap=\"round\" style=\"stroke:rgb(254,255,255);stroke-width:8\" /><line x1=\"174.498\" y1=\"174.135\" x2=\"173.504\" y2=\"175.871\" stroke-linecap=\"round\" style=\"stroke:rgb(253,254,255);stroke-width:8\" /><line x1=\"173.504\" y1=\"175.871\" x2=\"176.504\" y2=\"175.855\" stroke-linecap=\"round\" style=\"stroke:rgb(252,254,254);stroke-width:8\" /><line x1=\"176.504\" y1=\"175.855\" x2=\"174.48\" y2=\"172.405\" stroke-linecap=\"round\" style=\"stroke:rgb(251,253,254);stroke-width:8\" /><line x1=\"174.48\" y1=\"172.405\" x2=\"172.018\" y2=\"176.757\" stroke-linecap=\"round\" style=\"stroke:rgb(250,253,254);stroke-width:8\" /><line x1=\"172.018\" y1=\"176.757\" x2=\"178.018\" y2=\"176.694\" stroke-linecap=\"round\" style=\"stroke:rgb(249,252,253);stroke-width:8\" /><line x1=\"178.018\" y1=\"176.694\" x2=\"174.444\" y2=\"170.675\" stroke-linecap=\"round\" style=\"stroke:rgb(248,252,253);stroke-width:8\" /><line x1=\"174.444\" y1=\"170.675\" x2=\"170.541\" y2=\"177.658\" stroke-linecap=\"round\" style=\"stroke:rgb(247,251,253);stroke-width:8\" /><line x1=\"170.541\" y1=\"177.658\" x2=\"179.54\" y2=\"177.517\" stroke-linecap=\"round\" style=\"stroke:rgb(246,251,252);stroke-width:8\" /><line x1=\"179.54\" y1=\"177.517\" x2=\"174.39\" y2=\"168.945\" stroke-linecap=\"round\" style=\"stroke:rgb(245,250,252);stroke-width:8\" /><line x1=\"174.39\" y1=\"168.945\" x2=\"169.074\" y2=\"178.575\" stroke-linecap=\"round\" style=\"stroke:rgb(244,250,252);stroke-width:8\" /><line x1=\"169.074\" y1=\"178.575\" x2=\"181.071\" y2=\"178.324\" stroke-linecap=\"round\" style=\"stroke:rgb(243,249,251);stroke-width:8\" /><line x1=\"181.071\" y1=\"178.324\" x2=\"174.317\" y2=\"167.216\" stroke-linecap=\"round\" style=\"stroke:rgb(242,249,251);stroke-width:8\" /><line x1=\"174.317\" y1=\"167.216\" x2=\"167.615\" y2=\"179.508\" stroke-linecap=\"round\" style=\"stroke:rgb(241,248,251);stroke-width:8\" /><line x1=\"167.615\" y1=\"179.508\" x2=\"182.61\" y2=\"179.115\" stroke-linecap=\"round\" style=\"stroke:rgb(240,248,250);stroke-width:8\" /><line x1=\"182.61\" y1=\"179.115\" x2=\"174.226\" y2=\"165.487\" stroke-linecap=\"round\" style=\"stroke:rgb(239,247,250);stroke-width:8\" /><line x1=\"174.226\" y1=\"165.487\" x2=\"166.167\" y2=\"180.455\" stroke-linecap=\"round\" style=\"stroke:rgb(238,247,250);stroke-width:8\" /><line x1=\"166.167\" y1=\"180.455\" x2=\"184.158\" y2=\"179.89\" stroke-linecap=\"round\" style=\"stroke:rgb(237,246,249);stroke-width:8\" /><line x1=\"184.158\" y1=\"179.89\" x2=\"174.118\" y2=\"163.76\" stroke-linecap=\"round\" style=\"stroke:rgb(236,246,249);stroke-width:8\" /><line x1=\"174.118\" y1=\"163.76\" x2=\"164.729\" y2=\"181.419\" stroke-linecap=\"round\" style=\"stroke:rgb(235,245,249);stroke-width:8\" /><line x1=\"164.729\" y1=\"181.419\" x2=\"185.715\" y2=\"180.649\" stroke-linecap=\"round\" style=\"stroke:rgb(234,245,248);stroke-width:8\" /><line x1=\"185.715\" y1=\"180.649\" x2=\"173.992\" y2=\"162.033\" stroke-linecap=\"round\" style=\"stroke:rgb(233,244,248);stroke-width:8\" /><line x1=\"173.992\" y1=\"162.033\" x2=\"163.301\" y2=\"182.397\" stroke-linecap=\"round\" style=\"stroke:rgb(232,244,248);stroke-width:8\" /><line x1=\"163.301\" y1=\"182.397\" x2=\"187.28\" y2=\"181.392\" stroke-linecap=\"round\" style=\"stroke:rgb(231,243,247);stroke-width:8\" /><line x1=\"187.28\" y1=\"181.392\" x2=\"173.848\" y2=\"160.307\" stroke-linecap=\"round\" style=\"stroke:rgb(230,243,247);stroke-width:8\" /><line x1=\"173.848\" y1=\"160.307\" x2=\"161.883\" y2=\"183.39\" stroke-linecap=\"round\" style=\"stroke:rgb(229,242,247);stroke-width:8\" /><line x1=\"161.883\" y1=\"183.39\" x2=\"188.853\" y2=\"182.118\" stroke-linecap=\"round\" style=\"stroke:rgb(228,242,246);stroke-width:8\" /><line x1=\"188.853\" y1=\"182.118\" x2=\"173.685\" y2=\"158.582\" stroke-linecap=\"round\" style=\"stroke:rgb(227,241,246);stroke-width:8\" /><line x1=\"173.685\" y1=\"158.582\" x2=\"160.474\" y2=\"184.398\" stroke-linecap=\"round\" style=\"stroke:rgb(226,241,246);stroke-width:8\" /><line x1=\"160.474\" y1=\"184.398\" x2=\"190.433\" y2=\"182.828\" stroke-linecap=\"round\" style=\"stroke:rgb(225,240,245);stroke-width:8\" /><line x1=\"190.433\" y1=\"182.828\" x2=\"173.504\" y2=\"156.859\" stroke-linecap=\"round\" style=\"stroke:rgb(224,240,245);stroke-width:8\" /><line x1=\"173.504\" y1=\"156.859\" x2=\"159.076\" y2=\"185.422\" stroke-linecap=\"round\" style=\"stroke:rgb(223,239,245);stroke-width:8\" /><line x1=\"159.076\" y1=\"185.422\" x2=\"192.021\" y2=\"183.522\" stroke-linecap=\"round\" style=\"stroke:rgb(222,239,244);stroke-width:8\" /><line x1=\"192.021\" y1=\"183.522\" x2=\"173.305\" y2=\"155.137\" stroke-linecap=\"round\" style=\"stroke:rgb(221,238,244);stroke-width:8\" /><line x1=\"173.305\" y1=\"155.137\" x2=\"157.688\" y2=\"186.46\" stroke-linecap=\"round\" style=\"stroke:rgb(220,238,244);stroke-width:8\" /><line x1=\"157.688\" y1=\"186.46\" x2=\"193.617\" y2=\"184.2\" stroke-linecap=\"round\" style=\"stroke:rgb(219,237,243);stroke-width:8\" /><line x1=\"193.617\" y1=\"184.2\" x2=\"173.088\" y2=\"153.418\" stroke-linecap=\"round\" style=\"stroke:rgb(218,237,243);stroke-width:8\" /><line x1=\"173.088\" y1=\"153.418\" x2=\"156.311\" y2=\"187.514\" stroke-linecap=\"round\" style=\"stroke:rgb(217,236,243);stroke-width:8\" /><line x1=\"156.311\" y1=\"187.514\" x2=\"195.221\" y2=\"184.861\" stroke-linecap=\"round\" style=\"stroke:rgb(216,236,242);stroke-width:8\" /><line x1=\"195.221\" y1=\"184.861\" x2=\"172.853\" y2=\"151.699\" stroke-linecap=\"round\" style=\"stroke:rgb(215,235,242);stroke-width:8\" /><line x1=\"172.853\" y1=\"151.699\" x2=\"154.944\" y2=\"188.581\" stroke-linecap=\"round\" style=\"stroke:rgb(214,235,242);stroke-width:8\" /><line x1=\"154.944\" y1=\"188.581\" x2=\"196.831\" y2=\"185.505\" stroke-linecap=\"round\" style=\"stroke:rgb(213,234,241);stroke-width:8\" /><line x1=\"196.831\" y1=\"185.505\" x2=\"172.599\" y2=\"149.983\" stroke-linecap=\"round\" style=\"stroke:rgb(212,234,241);stroke-width:8\" /><line x1=\"172.599\" y1=\"149.983\" x2=\"153.587\" y2=\"189.664\" stroke-linecap=\"round\" style=\"stroke:rgb(211,233,241);stroke-width:8\" /><line x1=\"153.587\" y1=\"189.664\" x2=\"198.448\" y2=\"186.133\" stroke-linecap=\"round\" style=\"stroke:rgb(210,233,240);stroke-width:8\" /><line x1=\"198.448\" y1=\"186.133\" x2=\"172.327\" y2=\"148.269\" stroke-linecap=\"round\" style=\"stroke:rgb(209,232,240);stroke-width:8\" />\n",
              "        \n",
              "        \n",
              "        <g id=\"classic\" visibility=\"visible\" transform=\"rotate(145.4000000000007,172.327,148.269) translate(172.327, 148.269)\">\n",
              "<polygon points=\"-5,-4.5 0,-2.5 5,-4.5 0,4.5\" transform=\"skewX(0) scale(1,1)\" style=\"stroke:rgb(209,232,240);fill:hotpink;stroke-width:1\" />\n",
              "<animateTransform id = \"one\" attributeName=\"transform\" \n",
              "                      type=\"scale\"\n",
              "                      from=\"1 1\" to=\"1 1\"\n",
              "                      begin=\"0s\" dur=\"0.01s\"\n",
              "                      repeatCount=\"1\"\n",
              "                      additive=\"sum\"\n",
              "                      fill=\"freeze\"\n",
              "                /><animateTransform attributeName=\"transform\"\n",
              "                    type=\"rotate\"\n",
              "                    from=\"0 0 0\" to =\"-120.1 0 0\"\n",
              "                    begin=\"one.end\" dur=\"0.006672222222222223s\"\n",
              "                    repeatCount=\"1\"\n",
              "                    additive=\"sum\"\n",
              "                    fill=\"freeze\"\n",
              "                /><animateTransform id = \"one\" attributeName=\"transform\" \n",
              "                      type=\"scale\"\n",
              "                      from=\"1 1\" to=\"1 1\"\n",
              "                      begin=\"0s\" dur=\"0.01s\"\n",
              "                      repeatCount=\"1\"\n",
              "                      additive=\"sum\"\n",
              "                      fill=\"freeze\"\n",
              "                /><animateTransform attributeName=\"transform\"\n",
              "                    type=\"rotate\"\n",
              "                    from=\"0 0 0\" to =\"-120.1 0 0\"\n",
              "                    begin=\"one.end\" dur=\"0.3336111111111111s\"\n",
              "                    repeatCount=\"1\"\n",
              "                    additive=\"sum\"\n",
              "                    fill=\"freeze\"\n",
              "                /></g>\n",
              "      </svg>\n",
              "    "
            ]
          },
          "metadata": {}
        },
        {
          "output_type": "error",
          "ename": "KeyboardInterrupt",
          "evalue": "",
          "traceback": [
            "\u001b[0;31m---------------------------------------------------------------------------\u001b[0m",
            "\u001b[0;31mKeyboardInterrupt\u001b[0m                         Traceback (most recent call last)",
            "\u001b[0;32m<ipython-input-4-8d68c91c25ff>\u001b[0m in \u001b[0;36m<cell line: 0>\u001b[0;34m()\u001b[0m\n\u001b[1;32m     25\u001b[0m \u001b[0;34m\u001b[0m\u001b[0m\n\u001b[1;32m     26\u001b[0m     \u001b[0mt\u001b[0m\u001b[0;34m.\u001b[0m\u001b[0mforward\u001b[0m\u001b[0;34m(\u001b[0m\u001b[0mx\u001b[0m\u001b[0;34m*\u001b[0m\u001b[0;36m1\u001b[0m\u001b[0;34m)\u001b[0m\u001b[0;34m\u001b[0m\u001b[0;34m\u001b[0m\u001b[0m\n\u001b[0;32m---> 27\u001b[0;31m     \u001b[0mt\u001b[0m\u001b[0;34m.\u001b[0m\u001b[0mleft\u001b[0m\u001b[0;34m(\u001b[0m\u001b[0;36m120.1\u001b[0m\u001b[0;34m)\u001b[0m\u001b[0;34m\u001b[0m\u001b[0;34m\u001b[0m\u001b[0m\n\u001b[0m",
            "\u001b[0;32m/usr/local/lib/python3.11/dist-packages/ColabTurtlePlus/Turtle.py\u001b[0m in \u001b[0;36mleft\u001b[0;34m(angle)\u001b[0m\n",
            "\u001b[0;32m/usr/local/lib/python3.11/dist-packages/ColabTurtlePlus/Turtle.py\u001b[0m in \u001b[0;36mleft\u001b[0;34m(self, angle)\u001b[0m\n\u001b[1;32m    965\u001b[0m         \u001b[0;32mif\u001b[0m \u001b[0;32mnot\u001b[0m \u001b[0misinstance\u001b[0m\u001b[0;34m(\u001b[0m\u001b[0mangle\u001b[0m\u001b[0;34m,\u001b[0m \u001b[0;34m(\u001b[0m\u001b[0mint\u001b[0m\u001b[0;34m,\u001b[0m\u001b[0mfloat\u001b[0m\u001b[0;34m)\u001b[0m\u001b[0;34m)\u001b[0m\u001b[0;34m:\u001b[0m\u001b[0;34m\u001b[0m\u001b[0;34m\u001b[0m\u001b[0m\n\u001b[1;32m    966\u001b[0m             \u001b[0;32mraise\u001b[0m \u001b[0mValueError\u001b[0m\u001b[0;34m(\u001b[0m\u001b[0;34m'Degrees must be a number.'\u001b[0m\u001b[0;34m)\u001b[0m\u001b[0;34m\u001b[0m\u001b[0;34m\u001b[0m\u001b[0m\n\u001b[0;32m--> 967\u001b[0;31m         \u001b[0mself\u001b[0m\u001b[0;34m.\u001b[0m\u001b[0mright\u001b[0m\u001b[0;34m(\u001b[0m\u001b[0;34m-\u001b[0m\u001b[0;36m1\u001b[0m \u001b[0;34m*\u001b[0m \u001b[0mangle\u001b[0m\u001b[0;34m)\u001b[0m\u001b[0;34m\u001b[0m\u001b[0;34m\u001b[0m\u001b[0m\n\u001b[0m\u001b[1;32m    968\u001b[0m     \u001b[0mlt\u001b[0m \u001b[0;34m=\u001b[0m \u001b[0mleft\u001b[0m \u001b[0;31m# alias\u001b[0m\u001b[0;34m\u001b[0m\u001b[0;34m\u001b[0m\u001b[0m\n\u001b[1;32m    969\u001b[0m \u001b[0;34m\u001b[0m\u001b[0m\n",
            "\u001b[0;32m/usr/local/lib/python3.11/dist-packages/ColabTurtlePlus/Turtle.py\u001b[0m in \u001b[0;36mright\u001b[0;34m(self, angle)\u001b[0m\n\u001b[1;32m    927\u001b[0m             \u001b[0mself\u001b[0m\u001b[0;34m.\u001b[0m\u001b[0mstretchfactor\u001b[0m \u001b[0;34m=\u001b[0m \u001b[0;36m1\u001b[0m\u001b[0;34m,\u001b[0m\u001b[0;36m1\u001b[0m\u001b[0;34m\u001b[0m\u001b[0;34m\u001b[0m\u001b[0m\n\u001b[1;32m    928\u001b[0m             \u001b[0mself\u001b[0m\u001b[0;34m.\u001b[0m\u001b[0mtimeout\u001b[0m \u001b[0;34m=\u001b[0m \u001b[0mself\u001b[0m\u001b[0;34m.\u001b[0m\u001b[0mtimeout\u001b[0m\u001b[0;34m*\u001b[0m\u001b[0mabs\u001b[0m\u001b[0;34m(\u001b[0m\u001b[0mdeg\u001b[0m\u001b[0;34m)\u001b[0m\u001b[0;34m/\u001b[0m\u001b[0;36m90\u001b[0m\u001b[0;34m+\u001b[0m\u001b[0;36m0.001\u001b[0m\u001b[0;34m\u001b[0m\u001b[0;34m\u001b[0m\u001b[0m\n\u001b[0;32m--> 929\u001b[0;31m             \u001b[0mself\u001b[0m\u001b[0;34m.\u001b[0m\u001b[0mscreen\u001b[0m\u001b[0;34m.\u001b[0m\u001b[0m_updateDrawing\u001b[0m\u001b[0;34m(\u001b[0m\u001b[0mself\u001b[0m\u001b[0;34m)\u001b[0m\u001b[0;34m\u001b[0m\u001b[0;34m\u001b[0m\u001b[0m\n\u001b[0m\u001b[1;32m    930\u001b[0m             \u001b[0mself\u001b[0m\u001b[0;34m.\u001b[0m\u001b[0mturtle_degree\u001b[0m \u001b[0;34m=\u001b[0m \u001b[0;34m(\u001b[0m\u001b[0mself\u001b[0m\u001b[0;34m.\u001b[0m\u001b[0mturtle_degree\u001b[0m \u001b[0;34m+\u001b[0m \u001b[0mdeg\u001b[0m\u001b[0;34m)\u001b[0m \u001b[0;34m%\u001b[0m \u001b[0;36m360\u001b[0m\u001b[0;34m\u001b[0m\u001b[0;34m\u001b[0m\u001b[0m\n\u001b[1;32m    931\u001b[0m             \u001b[0mself\u001b[0m\u001b[0;34m.\u001b[0m\u001b[0mturtle_orient\u001b[0m \u001b[0;34m=\u001b[0m \u001b[0mself\u001b[0m\u001b[0;34m.\u001b[0m\u001b[0m_turtleOrientation\u001b[0m\u001b[0;34m(\u001b[0m\u001b[0;34m)\u001b[0m\u001b[0;34m\u001b[0m\u001b[0;34m\u001b[0m\u001b[0m\n",
            "\u001b[0;32m/usr/local/lib/python3.11/dist-packages/ColabTurtlePlus/Turtle.py\u001b[0m in \u001b[0;36m_updateDrawing\u001b[0;34m(self, turtle, delay)\u001b[0m\n\u001b[1;32m    325\u001b[0m                 \u001b[0mself\u001b[0m\u001b[0;34m.\u001b[0m\u001b[0mdrawing_window\u001b[0m\u001b[0;34m.\u001b[0m\u001b[0mupdate\u001b[0m\u001b[0;34m(\u001b[0m\u001b[0mHTML\u001b[0m\u001b[0;34m(\u001b[0m\u001b[0mself\u001b[0m\u001b[0;34m.\u001b[0m\u001b[0m_generateSvgDrawing\u001b[0m\u001b[0;34m(\u001b[0m\u001b[0;34m)\u001b[0m\u001b[0;34m)\u001b[0m\u001b[0;34m)\u001b[0m\u001b[0;34m\u001b[0m\u001b[0;34m\u001b[0m\u001b[0m\n\u001b[1;32m    326\u001b[0m                 \u001b[0;32mif\u001b[0m \u001b[0mdelay\u001b[0m\u001b[0;34m:\u001b[0m\u001b[0;34m\u001b[0m\u001b[0;34m\u001b[0m\u001b[0m\n\u001b[0;32m--> 327\u001b[0;31m                     \u001b[0mtime\u001b[0m\u001b[0;34m.\u001b[0m\u001b[0msleep\u001b[0m\u001b[0;34m(\u001b[0m\u001b[0mturtle\u001b[0m\u001b[0;34m.\u001b[0m\u001b[0mtimeout\u001b[0m\u001b[0;34m)\u001b[0m\u001b[0;34m\u001b[0m\u001b[0;34m\u001b[0m\u001b[0m\n\u001b[0m\u001b[1;32m    328\u001b[0m         \u001b[0;32melse\u001b[0m\u001b[0;34m:\u001b[0m\u001b[0;34m\u001b[0m\u001b[0;34m\u001b[0m\u001b[0m\n\u001b[1;32m    329\u001b[0m             \u001b[0mself\u001b[0m\u001b[0;34m.\u001b[0m\u001b[0mdrawing_window\u001b[0m\u001b[0;34m.\u001b[0m\u001b[0mupdate\u001b[0m\u001b[0;34m(\u001b[0m\u001b[0mHTML\u001b[0m\u001b[0;34m(\u001b[0m\u001b[0mself\u001b[0m\u001b[0;34m.\u001b[0m\u001b[0m_generateSvgDrawing\u001b[0m\u001b[0;34m(\u001b[0m\u001b[0;34m)\u001b[0m\u001b[0;34m)\u001b[0m\u001b[0;34m)\u001b[0m\u001b[0;34m\u001b[0m\u001b[0;34m\u001b[0m\u001b[0m\n",
            "\u001b[0;31mKeyboardInterrupt\u001b[0m: "
          ]
        }
      ]
    },
    {
      "cell_type": "markdown",
      "source": [
        "<br/><BR/>"
      ],
      "metadata": {
        "id": "T1VrXym6tjGs"
      }
    },
    {
      "cell_type": "markdown",
      "source": [
        "### **Program #2 |** Creating your own functions\n",
        "---\n",
        "\n",
        "\n",
        "In this program you need to use the calls to the `get_rating()` function to ask the user for their rating between 1 and 5 for the given item.\n",
        "\n",
        "The function must prompt the user based on what is being rated, validate the value ot ensure it's within the correct range, and then return the value to be printed out in the main program."
      ],
      "metadata": {
        "id": "_e0dz8zcsAdg"
      }
    },
    {
      "cell_type": "code",
      "source": [
        "### TODO: Write your function here\n",
        "def get_rating(item):\n",
        "\n",
        " while True:\n",
        "  try:\n",
        "     rating = int(input(f\"Rate {item} from 1 to 5 \"))\n",
        "     if 1 <= rating <= 5:\n",
        "        return rating\n",
        "     else:\n",
        "\n",
        "       print(\"Invalid rating, Please enter a number between 1 and 5 \")\n",
        "  except ValueError:\n",
        "       print(\"Invalid input, Please enter a number\")\n",
        "\n",
        "\n",
        "####\n",
        "\n",
        "rate_food = get_rating(\"food\")\n",
        "rate_service = get_rating(\"service\")\n",
        "rate_price = get_rating(\"price\")\n",
        "\n",
        "print(\"Thank you for your ratings: \")\n",
        "print(\"Food:    \",rate_food)\n",
        "print(\"Service: \",rate_service)\n",
        "print(\"Price:   \",rate_price)\n"
      ],
      "metadata": {
        "colab": {
          "base_uri": "https://localhost:8080/"
        },
        "id": "w418Hf-EsL_B",
        "outputId": "f411c608-e25a-40ed-f85e-b1183e913adc"
      },
      "execution_count": 5,
      "outputs": [
        {
          "output_type": "stream",
          "name": "stdout",
          "text": [
            "Rate food from 1 to 5 4\n",
            "Rate service from 1 to 5 3\n",
            "Rate price from 1 to 5 4\n",
            "Thank you for your ratings: \n",
            "Food:     4\n",
            "Service:  3\n",
            "Price:    4\n"
          ]
        }
      ]
    },
    {
      "cell_type": "markdown",
      "source": [
        "### **Submission**\n",
        "---\n",
        "\n",
        "When you believe you have the program correctly working, please run the program and enter valid details for height and weight (you don't need to use your own if you do not want to) to get the output of BMI to show.\n",
        "<br/><br/>\n",
        "When you are ready to submit please go to `File` -> `Print` -> `Print PDF` and then upload and submit in the LMS.\n",
        "\n",
        "Please save your file to GitHub via: `File` -> `Save a copy in GitHub`"
      ],
      "metadata": {
        "id": "N-XTusSvusCo"
      }
    }
  ]
}