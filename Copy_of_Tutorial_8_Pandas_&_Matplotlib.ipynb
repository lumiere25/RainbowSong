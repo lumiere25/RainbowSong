{
  "nbformat": 4,
  "nbformat_minor": 0,
  "metadata": {
    "colab": {
      "provenance": [],
      "toc_visible": true
    },
    "kernelspec": {
      "name": "python3",
      "display_name": "Python 3"
    },
    "language_info": {
      "name": "python"
    }
  },
  "cells": [
    {
      "cell_type": "markdown",
      "source": [
        "# **TUTORIAL 8 - WORKING WITH DATA**"
      ],
      "metadata": {
        "id": "UCgAaPlaPR9J"
      }
    },
    {
      "cell_type": "markdown",
      "source": [
        "In this tutorial, we will be revise the main topics covered in working with data - namely the Pandas & matplotlib modules.\n",
        "\n",
        "> **Note:** *For a comprehensive understanding please refer to the materials on the LMS*"
      ],
      "metadata": {
        "id": "sBoEjvtzKGvz"
      }
    },
    {
      "cell_type": "markdown",
      "source": [
        "# **#1. Pandas** | Manipulating Data\n",
        "\n",
        "\n",
        "Here we will recap how to use Pandas to be able to import and manipulate data within Python."
      ],
      "metadata": {
        "id": "wppc_WUiKTD3"
      }
    },
    {
      "cell_type": "markdown",
      "source": [
        "## **1.1 Importing**\n",
        "---\n",
        "\n",
        "As Pandas is an external module, you will need to import it"
      ],
      "metadata": {
        "id": "JzPbfyNDPUYW"
      }
    },
    {
      "cell_type": "code",
      "source": [
        "import pandas as pd"
      ],
      "metadata": {
        "id": "_aJnVLn_PfiP"
      },
      "execution_count": 1,
      "outputs": []
    },
    {
      "cell_type": "markdown",
      "source": [
        ">**Note:** *Pandas is typically imported as `pd` for short to make it easier to work with - this is not required though.*\n",
        "<br/>"
      ],
      "metadata": {
        "id": "gRquNQAYT1dR"
      }
    },
    {
      "cell_type": "markdown",
      "source": [
        "## **1.2 Series**\n",
        "---\n",
        "\n",
        "`Series` are a 1 dimension data structure with an index. They are not heavily used but they are listed here for completeness"
      ],
      "metadata": {
        "id": "jVm8F1GePWYd"
      }
    },
    {
      "cell_type": "code",
      "source": [
        "# LIST\n",
        "list_ex = [15, 32, 94, 22, 12]\n",
        "print(\"List Example: \")\n",
        "print(list_ex)\n",
        "\n",
        "print()\n",
        "\n",
        "# SERIES (based on list)\n",
        "series_ex = pd.Series(list_ex)\n",
        "print(\"Pandas Series Example:\")\n",
        "print(series_ex)"
      ],
      "metadata": {
        "colab": {
          "base_uri": "https://localhost:8080/"
        },
        "id": "_egmItK4QA2M",
        "outputId": "6c142d0a-5a36-4388-f6ab-b675586f0024"
      },
      "execution_count": null,
      "outputs": [
        {
          "output_type": "stream",
          "name": "stdout",
          "text": [
            "List Example: \n",
            "[15, 32, 94, 22, 12]\n",
            "\n",
            "Pandas Series Example:\n",
            "0    15\n",
            "1    32\n",
            "2    94\n",
            "3    22\n",
            "4    12\n",
            "dtype: int64\n"
          ]
        }
      ]
    },
    {
      "cell_type": "markdown",
      "source": [
        "<br/><br/>"
      ],
      "metadata": {
        "id": "f5m4FJTMSBtf"
      }
    },
    {
      "cell_type": "markdown",
      "source": [
        "## **1.3 DataFrames**\n",
        "---\n",
        "\n",
        "<br/>\n",
        "\n",
        "`DataFrames` are the main data structure used in Pandas, and are formed via rows (records) and columns (attributes)."
      ],
      "metadata": {
        "id": "MVmNUJN4PbE9"
      }
    },
    {
      "cell_type": "markdown",
      "source": [
        "<br/>"
      ],
      "metadata": {
        "id": "Ht_YQFKwT6z7"
      }
    },
    {
      "cell_type": "markdown",
      "source": [
        "### 1.3.1 **Reading in a CSV**\n",
        "\n",
        "We can read a CSV file into a DataFram via the Pandas method ``read_csv()``"
      ],
      "metadata": {
        "id": "btJNYn7SrjY6"
      }
    },
    {
      "cell_type": "code",
      "source": [
        "df = pd.read_csv(\"nobel_final.csv\")"
      ],
      "metadata": {
        "id": "xrxWFQHVrLAN"
      },
      "execution_count": null,
      "outputs": []
    },
    {
      "cell_type": "markdown",
      "source": [
        "### 1.3.2 **Checking Data**\n",
        "\n",
        "We can quickly check the data we are working with by using the ``head()`` method"
      ],
      "metadata": {
        "id": "lBusictvrzpf"
      }
    },
    {
      "cell_type": "code",
      "source": [
        "df.head()"
      ],
      "metadata": {
        "colab": {
          "base_uri": "https://localhost:8080/",
          "height": 322
        },
        "id": "OF5xiaomr5Uf",
        "outputId": "308dff3e-a1b5-459a-aa5d-879488ceba68"
      },
      "execution_count": null,
      "outputs": [
        {
          "output_type": "execute_result",
          "data": {
            "text/plain": [
              "        firstname    surname born_country_code died_country_code gender  year  \\\n",
              "0  Wilhelm Conrad    Röntgen                DE                DE   male  1901   \n",
              "1      Hendrik A.    Lorentz                NL                NL   male  1902   \n",
              "2          Pieter     Zeeman                NL                NL   male  1902   \n",
              "3           Henri  Becquerel                FR                FR   male  1903   \n",
              "4          Pierre      Curie                FR                FR   male  1903   \n",
              "\n",
              "  category  share                                 name_of_university  \\\n",
              "0  physics      1                                  Munich University   \n",
              "1  physics      2                                  Leiden University   \n",
              "2  physics      2                               Amsterdam University   \n",
              "3  physics      2                                École Polytechnique   \n",
              "4  physics      4  École municipale de physique et de chimie indu...   \n",
              "\n",
              "  city_of_university country_of_university born_month  age  age_get_prize  \n",
              "0             Munich               Germany        Mar   78             56  \n",
              "1             Leiden       the Netherlands        Jul   75             49  \n",
              "2          Amsterdam       the Netherlands        May   78             37  \n",
              "3              Paris                France        Dec   56             51  \n",
              "4              Paris                France        May   47             44  "
            ],
            "text/html": [
              "\n",
              "  <div id=\"df-8f25bb55-6a3d-4c7a-89ad-83bf477f40ba\">\n",
              "    <div class=\"colab-df-container\">\n",
              "      <div>\n",
              "<style scoped>\n",
              "    .dataframe tbody tr th:only-of-type {\n",
              "        vertical-align: middle;\n",
              "    }\n",
              "\n",
              "    .dataframe tbody tr th {\n",
              "        vertical-align: top;\n",
              "    }\n",
              "\n",
              "    .dataframe thead th {\n",
              "        text-align: right;\n",
              "    }\n",
              "</style>\n",
              "<table border=\"1\" class=\"dataframe\">\n",
              "  <thead>\n",
              "    <tr style=\"text-align: right;\">\n",
              "      <th></th>\n",
              "      <th>firstname</th>\n",
              "      <th>surname</th>\n",
              "      <th>born_country_code</th>\n",
              "      <th>died_country_code</th>\n",
              "      <th>gender</th>\n",
              "      <th>year</th>\n",
              "      <th>category</th>\n",
              "      <th>share</th>\n",
              "      <th>name_of_university</th>\n",
              "      <th>city_of_university</th>\n",
              "      <th>country_of_university</th>\n",
              "      <th>born_month</th>\n",
              "      <th>age</th>\n",
              "      <th>age_get_prize</th>\n",
              "    </tr>\n",
              "  </thead>\n",
              "  <tbody>\n",
              "    <tr>\n",
              "      <th>0</th>\n",
              "      <td>Wilhelm Conrad</td>\n",
              "      <td>Röntgen</td>\n",
              "      <td>DE</td>\n",
              "      <td>DE</td>\n",
              "      <td>male</td>\n",
              "      <td>1901</td>\n",
              "      <td>physics</td>\n",
              "      <td>1</td>\n",
              "      <td>Munich University</td>\n",
              "      <td>Munich</td>\n",
              "      <td>Germany</td>\n",
              "      <td>Mar</td>\n",
              "      <td>78</td>\n",
              "      <td>56</td>\n",
              "    </tr>\n",
              "    <tr>\n",
              "      <th>1</th>\n",
              "      <td>Hendrik A.</td>\n",
              "      <td>Lorentz</td>\n",
              "      <td>NL</td>\n",
              "      <td>NL</td>\n",
              "      <td>male</td>\n",
              "      <td>1902</td>\n",
              "      <td>physics</td>\n",
              "      <td>2</td>\n",
              "      <td>Leiden University</td>\n",
              "      <td>Leiden</td>\n",
              "      <td>the Netherlands</td>\n",
              "      <td>Jul</td>\n",
              "      <td>75</td>\n",
              "      <td>49</td>\n",
              "    </tr>\n",
              "    <tr>\n",
              "      <th>2</th>\n",
              "      <td>Pieter</td>\n",
              "      <td>Zeeman</td>\n",
              "      <td>NL</td>\n",
              "      <td>NL</td>\n",
              "      <td>male</td>\n",
              "      <td>1902</td>\n",
              "      <td>physics</td>\n",
              "      <td>2</td>\n",
              "      <td>Amsterdam University</td>\n",
              "      <td>Amsterdam</td>\n",
              "      <td>the Netherlands</td>\n",
              "      <td>May</td>\n",
              "      <td>78</td>\n",
              "      <td>37</td>\n",
              "    </tr>\n",
              "    <tr>\n",
              "      <th>3</th>\n",
              "      <td>Henri</td>\n",
              "      <td>Becquerel</td>\n",
              "      <td>FR</td>\n",
              "      <td>FR</td>\n",
              "      <td>male</td>\n",
              "      <td>1903</td>\n",
              "      <td>physics</td>\n",
              "      <td>2</td>\n",
              "      <td>École Polytechnique</td>\n",
              "      <td>Paris</td>\n",
              "      <td>France</td>\n",
              "      <td>Dec</td>\n",
              "      <td>56</td>\n",
              "      <td>51</td>\n",
              "    </tr>\n",
              "    <tr>\n",
              "      <th>4</th>\n",
              "      <td>Pierre</td>\n",
              "      <td>Curie</td>\n",
              "      <td>FR</td>\n",
              "      <td>FR</td>\n",
              "      <td>male</td>\n",
              "      <td>1903</td>\n",
              "      <td>physics</td>\n",
              "      <td>4</td>\n",
              "      <td>École municipale de physique et de chimie indu...</td>\n",
              "      <td>Paris</td>\n",
              "      <td>France</td>\n",
              "      <td>May</td>\n",
              "      <td>47</td>\n",
              "      <td>44</td>\n",
              "    </tr>\n",
              "  </tbody>\n",
              "</table>\n",
              "</div>\n",
              "      <button class=\"colab-df-convert\" onclick=\"convertToInteractive('df-8f25bb55-6a3d-4c7a-89ad-83bf477f40ba')\"\n",
              "              title=\"Convert this dataframe to an interactive table.\"\n",
              "              style=\"display:none;\">\n",
              "        \n",
              "  <svg xmlns=\"http://www.w3.org/2000/svg\" height=\"24px\"viewBox=\"0 0 24 24\"\n",
              "       width=\"24px\">\n",
              "    <path d=\"M0 0h24v24H0V0z\" fill=\"none\"/>\n",
              "    <path d=\"M18.56 5.44l.94 2.06.94-2.06 2.06-.94-2.06-.94-.94-2.06-.94 2.06-2.06.94zm-11 1L8.5 8.5l.94-2.06 2.06-.94-2.06-.94L8.5 2.5l-.94 2.06-2.06.94zm10 10l.94 2.06.94-2.06 2.06-.94-2.06-.94-.94-2.06-.94 2.06-2.06.94z\"/><path d=\"M17.41 7.96l-1.37-1.37c-.4-.4-.92-.59-1.43-.59-.52 0-1.04.2-1.43.59L10.3 9.45l-7.72 7.72c-.78.78-.78 2.05 0 2.83L4 21.41c.39.39.9.59 1.41.59.51 0 1.02-.2 1.41-.59l7.78-7.78 2.81-2.81c.8-.78.8-2.07 0-2.86zM5.41 20L4 18.59l7.72-7.72 1.47 1.35L5.41 20z\"/>\n",
              "  </svg>\n",
              "      </button>\n",
              "      \n",
              "  <style>\n",
              "    .colab-df-container {\n",
              "      display:flex;\n",
              "      flex-wrap:wrap;\n",
              "      gap: 12px;\n",
              "    }\n",
              "\n",
              "    .colab-df-convert {\n",
              "      background-color: #E8F0FE;\n",
              "      border: none;\n",
              "      border-radius: 50%;\n",
              "      cursor: pointer;\n",
              "      display: none;\n",
              "      fill: #1967D2;\n",
              "      height: 32px;\n",
              "      padding: 0 0 0 0;\n",
              "      width: 32px;\n",
              "    }\n",
              "\n",
              "    .colab-df-convert:hover {\n",
              "      background-color: #E2EBFA;\n",
              "      box-shadow: 0px 1px 2px rgba(60, 64, 67, 0.3), 0px 1px 3px 1px rgba(60, 64, 67, 0.15);\n",
              "      fill: #174EA6;\n",
              "    }\n",
              "\n",
              "    [theme=dark] .colab-df-convert {\n",
              "      background-color: #3B4455;\n",
              "      fill: #D2E3FC;\n",
              "    }\n",
              "\n",
              "    [theme=dark] .colab-df-convert:hover {\n",
              "      background-color: #434B5C;\n",
              "      box-shadow: 0px 1px 3px 1px rgba(0, 0, 0, 0.15);\n",
              "      filter: drop-shadow(0px 1px 2px rgba(0, 0, 0, 0.3));\n",
              "      fill: #FFFFFF;\n",
              "    }\n",
              "  </style>\n",
              "\n",
              "      <script>\n",
              "        const buttonEl =\n",
              "          document.querySelector('#df-8f25bb55-6a3d-4c7a-89ad-83bf477f40ba button.colab-df-convert');\n",
              "        buttonEl.style.display =\n",
              "          google.colab.kernel.accessAllowed ? 'block' : 'none';\n",
              "\n",
              "        async function convertToInteractive(key) {\n",
              "          const element = document.querySelector('#df-8f25bb55-6a3d-4c7a-89ad-83bf477f40ba');\n",
              "          const dataTable =\n",
              "            await google.colab.kernel.invokeFunction('convertToInteractive',\n",
              "                                                     [key], {});\n",
              "          if (!dataTable) return;\n",
              "\n",
              "          const docLinkHtml = 'Like what you see? Visit the ' +\n",
              "            '<a target=\"_blank\" href=https://colab.research.google.com/notebooks/data_table.ipynb>data table notebook</a>'\n",
              "            + ' to learn more about interactive tables.';\n",
              "          element.innerHTML = '';\n",
              "          dataTable['output_type'] = 'display_data';\n",
              "          await google.colab.output.renderOutput(dataTable, element);\n",
              "          const docLink = document.createElement('div');\n",
              "          docLink.innerHTML = docLinkHtml;\n",
              "          element.appendChild(docLink);\n",
              "        }\n",
              "      </script>\n",
              "    </div>\n",
              "  </div>\n",
              "  "
            ]
          },
          "metadata": {},
          "execution_count": 12
        }
      ]
    },
    {
      "cell_type": "markdown",
      "source": [
        "### 1.3.3 **Selecting Data**\n",
        "\n",
        "We can select data by providing some additional information as follows"
      ],
      "metadata": {
        "id": "o6mVRCpDSQp_"
      }
    },
    {
      "cell_type": "markdown",
      "source": [
        "#### **Based on Columns**"
      ],
      "metadata": {
        "id": "hjMTeo1gWF7Q"
      }
    },
    {
      "cell_type": "markdown",
      "source": [
        ">##### **Single Column**"
      ],
      "metadata": {
        "id": "RqwbuCuzXEdM"
      }
    },
    {
      "cell_type": "code",
      "source": [
        "print(df[\"year\"])"
      ],
      "metadata": {
        "colab": {
          "base_uri": "https://localhost:8080/"
        },
        "id": "r1nJZWUJSWKA",
        "outputId": "91b1db00-e60b-4186-ec47-f24c89774f58"
      },
      "execution_count": null,
      "outputs": [
        {
          "output_type": "stream",
          "name": "stdout",
          "text": [
            "0      1901\n",
            "1      1902\n",
            "2      1902\n",
            "3      1903\n",
            "4      1903\n",
            "       ... \n",
            "918    2019\n",
            "919    2019\n",
            "920    2019\n",
            "921    2019\n",
            "922    2019\n",
            "Name: year, Length: 923, dtype: int64\n"
          ]
        }
      ]
    },
    {
      "cell_type": "markdown",
      "source": [
        ">##### **Multiple Columns**"
      ],
      "metadata": {
        "id": "RfjivNlTXH2I"
      }
    },
    {
      "cell_type": "code",
      "source": [
        "print(df[[\"year\",\"age\"]])"
      ],
      "metadata": {
        "colab": {
          "base_uri": "https://localhost:8080/"
        },
        "id": "JUffTDILXK1y",
        "outputId": "b0fd8ad1-36e0-41c4-af27-b7447dd4f61a"
      },
      "execution_count": null,
      "outputs": [
        {
          "output_type": "stream",
          "name": "stdout",
          "text": [
            "     year  age\n",
            "0    1901   78\n",
            "1    1902   75\n",
            "2    1902   78\n",
            "3    1903   56\n",
            "4    1903   47\n",
            "..    ...  ...\n",
            "918  2019   78\n",
            "919  2019   44\n",
            "920  2019   59\n",
            "921  2019   48\n",
            "922  2019   56\n",
            "\n",
            "[923 rows x 2 columns]\n"
          ]
        }
      ]
    },
    {
      "cell_type": "markdown",
      "source": [
        "#### **Based on Conditions**\n",
        "\n",
        "We can use normal Python conditions to be able to filter the data that we want to display.\n",
        "\n",
        "Take for example, only looking at Noble Prize winners from 1990 or later."
      ],
      "metadata": {
        "id": "3pKplVMyWK_n"
      }
    },
    {
      "cell_type": "code",
      "source": [
        "print(df[df[\"year\"] >= 1990].head())"
      ],
      "metadata": {
        "colab": {
          "base_uri": "https://localhost:8080/"
        },
        "id": "gMuzY70eWWAA",
        "outputId": "abbd6235-21d5-40ed-fd2a-596af3e223de"
      },
      "execution_count": null,
      "outputs": [
        {
          "output_type": "stream",
          "name": "stdout",
          "text": [
            "         firstname    surname born_country_code died_country_code gender  \\\n",
            "137      Jerome I.   Friedman                US               NaN   male   \n",
            "138       Henry W.    Kendall                US                US   male   \n",
            "139     Richard E.     Taylor                CA                US   male   \n",
            "140  Pierre-Gilles  de Gennes                FR                FR   male   \n",
            "141        Georges    Charpak                PL                FR   male   \n",
            "\n",
            "     year category  share                           name_of_university  \\\n",
            "137  1990  physics      3  Massachusetts Institute of Technology (MIT)   \n",
            "138  1990  physics      3  Massachusetts Institute of Technology (MIT)   \n",
            "139  1990  physics      3                          Stanford University   \n",
            "140  1991  physics      1                            Collège de France   \n",
            "141  1992  physics      1       École Supérieure de Physique et Chimie   \n",
            "\n",
            "    city_of_university country_of_university born_month  age  age_get_prize  \n",
            "137       Cambridge MA                   USA        Mar   90             60  \n",
            "138       Cambridge MA                   USA        Dec   73             64  \n",
            "139        Stanford CA                   USA        Nov   89             61  \n",
            "140              Paris                France        Oct   75             59  \n",
            "141              Paris                France        Aug   86             68  \n"
          ]
        }
      ]
    },
    {
      "cell_type": "markdown",
      "source": [
        "### 1.3.4 **Filtering (selected data) into a new DataFrame**\n",
        "\n",
        "We can filter data into a new DataFrame by simply filtering the data and then assigning it to a variable.\n",
        "\n",
        "This new variable can be used like a normal DataFrame"
      ],
      "metadata": {
        "id": "l8-xlDErWsNS"
      }
    },
    {
      "cell_type": "code",
      "source": [
        "cutdf = df[[\"category\", \"gender\", \"age\", \"share\",\"year\"]]\n",
        "\n",
        "print(cutdf)"
      ],
      "metadata": {
        "colab": {
          "base_uri": "https://localhost:8080/"
        },
        "id": "IEyDlW1aWv31",
        "outputId": "e5e10d97-f27f-4775-f0d1-2fd181c5e5b5"
      },
      "execution_count": null,
      "outputs": [
        {
          "output_type": "stream",
          "name": "stdout",
          "text": [
            "       category  gender  age  share  year\n",
            "0       physics    male   78      1  1901\n",
            "1       physics    male   75      2  1902\n",
            "2       physics    male   78      2  1902\n",
            "3       physics    male   56      2  1903\n",
            "4       physics    male   47      4  1903\n",
            "..          ...     ...  ...    ...   ...\n",
            "918  literature    male   78      1  2019\n",
            "919       peace    male   44      1  2019\n",
            "920   economics    male   59      3  2019\n",
            "921   economics  female   48      3  2019\n",
            "922   economics    male   56      3  2019\n",
            "\n",
            "[923 rows x 5 columns]\n"
          ]
        }
      ]
    },
    {
      "cell_type": "markdown",
      "source": [
        "<br/>"
      ],
      "metadata": {
        "id": "rHZLqniaTk7h"
      }
    },
    {
      "cell_type": "markdown",
      "source": [
        "### **1.4 Aggregate Statistics**"
      ],
      "metadata": {
        "id": "EyOl9CuORS6p"
      }
    },
    {
      "cell_type": "markdown",
      "source": [
        "#### 1.4.1 **Basic**\n",
        "\n",
        "We can get simple aggregate statistics via apply methods (`mean()`) on a DataFrame"
      ],
      "metadata": {
        "id": "1J2wcuoAReWW"
      }
    },
    {
      "cell_type": "code",
      "source": [
        "print(cutdf.mean())"
      ],
      "metadata": {
        "colab": {
          "base_uri": "https://localhost:8080/"
        },
        "id": "tc0ssqQaZ0Bt",
        "outputId": "5280f92c-da4b-42ce-d82c-f94ad4745e97"
      },
      "execution_count": null,
      "outputs": [
        {
          "output_type": "stream",
          "name": "stdout",
          "text": [
            "age        79.346696\n",
            "share       2.020585\n",
            "year     1971.102925\n",
            "dtype: float64\n"
          ]
        },
        {
          "output_type": "stream",
          "name": "stderr",
          "text": [
            "/usr/local/lib/python3.7/dist-packages/ipykernel_launcher.py:1: FutureWarning: Dropping of nuisance columns in DataFrame reductions (with 'numeric_only=None') is deprecated; in a future version this will raise TypeError.  Select only valid columns before calling the reduction.\n",
            "  \"\"\"Entry point for launching an IPython kernel.\n"
          ]
        }
      ]
    },
    {
      "cell_type": "code",
      "source": [
        "print(cutdf[\"age\"].mean())"
      ],
      "metadata": {
        "id": "bCRIkSoAUErR",
        "colab": {
          "base_uri": "https://localhost:8080/"
        },
        "outputId": "430da377-8d80-41fa-c231-559d713971a5"
      },
      "execution_count": null,
      "outputs": [
        {
          "output_type": "stream",
          "name": "stdout",
          "text": [
            "79.34669555796316\n"
          ]
        }
      ]
    },
    {
      "cell_type": "markdown",
      "source": [
        "#### 1.4.2 **Advanced**"
      ],
      "metadata": {
        "id": "ja_kqf1lUE7i"
      }
    },
    {
      "cell_type": "code",
      "source": [
        "print(cutdf[\"age\"].aggregate(['count','mean','min','max','average']))"
      ],
      "metadata": {
        "id": "aJ362uv1UIfa",
        "colab": {
          "base_uri": "https://localhost:8080/"
        },
        "outputId": "0f09216b-5394-448a-db0e-8ce9ab1f02f0"
      },
      "execution_count": null,
      "outputs": [
        {
          "output_type": "stream",
          "name": "stdout",
          "text": [
            "count      923.000000\n",
            "mean        79.346696\n",
            "min         23.000000\n",
            "max        103.000000\n",
            "average     79.346696\n",
            "Name: age, dtype: float64\n"
          ]
        }
      ]
    },
    {
      "cell_type": "markdown",
      "source": [
        "<br/>"
      ],
      "metadata": {
        "id": "6ynx4L85Ujim"
      }
    },
    {
      "cell_type": "markdown",
      "source": [
        "#### 1.4.3 **Grouping**\n",
        "\n",
        "We can perform aggregate methods based on different groups within the data via the `groupby()` method."
      ],
      "metadata": {
        "id": "V1JrVtoeSc0H"
      }
    },
    {
      "cell_type": "markdown",
      "source": [
        "##### via ***Single Column***"
      ],
      "metadata": {
        "id": "emlkk1JZS5fT"
      }
    },
    {
      "cell_type": "code",
      "source": [
        "print(cutdf.groupby([\"category\"]).mean())"
      ],
      "metadata": {
        "colab": {
          "base_uri": "https://localhost:8080/"
        },
        "id": "a6bLEvReSNQT",
        "outputId": "8bb9eda8-1220-48e9-f54a-7fb58b0e89b9"
      },
      "execution_count": null,
      "outputs": [
        {
          "output_type": "stream",
          "name": "stdout",
          "text": [
            "                  age     share         year\n",
            "category                                    \n",
            "chemistry   78.934783  2.108696  1972.347826\n",
            "economics   81.630952  1.952381  1996.119048\n",
            "literature  78.948276  1.068966  1960.931034\n",
            "medicine    80.223744  2.378995  1970.356164\n",
            "peace       75.700935  1.579439  1961.953271\n",
            "physics     79.948357  2.342723  1971.065728\n"
          ]
        }
      ]
    },
    {
      "cell_type": "markdown",
      "source": [
        "##### via ***Multiple Columns***"
      ],
      "metadata": {
        "id": "aEkWCUjbS9IW"
      }
    },
    {
      "cell_type": "code",
      "execution_count": null,
      "metadata": {
        "colab": {
          "base_uri": "https://localhost:8080/"
        },
        "id": "sAZZTRLG8SiN",
        "outputId": "f43ea736-4925-4643-be95-23654dcf1c3e"
      },
      "outputs": [
        {
          "output_type": "stream",
          "name": "stdout",
          "text": [
            "                         age     share         year\n",
            "category   gender                                  \n",
            "chemistry  female  71.000000  1.800000  1967.400000\n",
            "           male    79.156425  2.117318  1972.486034\n",
            "economics  female  63.500000  2.500000  2014.000000\n",
            "           male    82.073171  1.939024  1995.682927\n",
            "literature female  77.600000  1.066667  1977.200000\n",
            "           male    79.148515  1.069307  1958.514851\n",
            "medicine   female  77.250000  2.750000  1994.583333\n",
            "           male    80.396135  2.357488  1968.951691\n",
            "peace      female  66.764706  1.823529  1985.117647\n",
            "           male    77.388889  1.533333  1957.577778\n",
            "physics    female  64.666667  4.000000  1961.333333\n",
            "           male    80.166667  2.319048  1971.204762\n"
          ]
        }
      ],
      "source": [
        "print(cutdf.groupby([\"category\",\"gender\"]).mean())"
      ]
    },
    {
      "cell_type": "markdown",
      "source": [
        "# **#2. Matplotlib** | Visualising Data\n",
        "---\n",
        "\n",
        "<br/>\n",
        "\n",
        "Here we will recap how to use matplotlib to plot data on a graph"
      ],
      "metadata": {
        "id": "KbtscRceuk85"
      }
    },
    {
      "cell_type": "markdown",
      "source": [
        "### **2.1 Basics**\n",
        "\n",
        "First we will need to import the external module"
      ],
      "metadata": {
        "id": "E0myAMxpyAU3"
      }
    },
    {
      "cell_type": "code",
      "source": [
        "import matplotlib.pyplot as plt"
      ],
      "metadata": {
        "id": "SuKf2GjWyIFo"
      },
      "execution_count": 2,
      "outputs": []
    },
    {
      "cell_type": "markdown",
      "source": [
        "Next, we can simply use the maplotlib (as ``plt``)'s method ``scatter()`` to plot the x and y axis from our Pandas DataFrame as follows:"
      ],
      "metadata": {
        "id": "ZsMXbjmxyI3p"
      }
    },
    {
      "cell_type": "code",
      "source": [
        "plt.scatter(df[\"year\"], cutdf[\"age\"])\n",
        "plt.show()"
      ],
      "metadata": {
        "colab": {
          "base_uri": "https://localhost:8080/",
          "height": 265
        },
        "id": "5KpokhUcyYNV",
        "outputId": "53ca3501-85c4-40f8-f38f-b0f5ddca109e"
      },
      "execution_count": null,
      "outputs": [
        {
          "output_type": "display_data",
          "data": {
            "text/plain": [
              "<Figure size 432x288 with 1 Axes>"
            ],
            "image/png": "[encoded data removed]"
          },
          "metadata": {
            "needs_background": "light"
          }
        }
      ]
    },
    {
      "cell_type": "markdown",
      "source": [
        "Next, we will add some extra informaiton to the graph such as the title and labels for the X and Y axes.\n"
      ],
      "metadata": {
        "id": "R_fuI9vOTVyx"
      }
    },
    {
      "cell_type": "code",
      "source": [
        "plt.title(\"Nobel Prize Year vs. Winner's Age\")\n",
        "\n",
        "plt.xlabel(\"Year\")\n",
        "plt.ylabel(\"Age\")\n",
        "\n",
        "plt.scatter(df[\"year\"], cutdf[\"age\"])\n",
        "plt.show()"
      ],
      "metadata": {
        "colab": {
          "base_uri": "https://localhost:8080/",
          "height": 295
        },
        "id": "lgUKKO1PTfYN",
        "outputId": "1ec01272-b227-48b2-f7af-31985924a7e5"
      },
      "execution_count": null,
      "outputs": [
        {
          "output_type": "display_data",
          "data": {
            "text/plain": [
              "<Figure size 432x288 with 1 Axes>"
            ],
            "image/png": "[encoded data removed]"
          },
          "metadata": {
            "needs_background": "light"
          }
        }
      ]
    },
    {
      "cell_type": "markdown",
      "source": [
        "# **Your Turn**\n",
        "---\n",
        "Use your knowledge of Pandas to work out the following:\n",
        "\n",
        "https://raw.githubusercontent.com/datasciencedojo/datasets/master/titanic.csv"
      ],
      "metadata": {
        "id": "I6iBoS_kumiA"
      }
    },
    {
      "cell_type": "markdown",
      "source": [
        "### **Task 1 |** Pandas: Opening files and Data Manipulation\n"
      ],
      "metadata": {
        "id": "7fji69psv6Fr"
      }
    },
    {
      "cell_type": "code",
      "source": [
        "# Student Name:   Chrissa Hanna\n",
        "# Student Number: 1034793\n",
        "\n",
        "# TODO: read the csv into a DataFrame and then fill in each print statement\n",
        "import pandas as pd\n",
        "df = pd.read_csv(\"https://raw.githubusercontent.com/datasciencedojo/datasets/master/titanic.csv\")\n",
        "\n",
        "\n",
        "print(\"1. number of people aboard:\", len(df))\n",
        "print(\"2. ratio of male to females:\", (df['Sex'] == 'male').sum() / (df['Sex'] == 'female').sum())\n",
        "print(\"3. number of people per class:\", df.groupby('Pclass')['PassengerId'].count())\n",
        "print(\"4. aggregates per class:\", df.groupby('Pclass')[['Age', 'Fare']].agg(['mean', 'min', 'max', 'count']))\n",
        "print(\"5. aggregates per class and gender:\", df.groupby(['Pclass', 'Sex'])[['Age', 'Fare']].agg(['mean', 'min', 'max', 'count']))\n"
      ],
      "metadata": {
        "id": "ScCTZFgJu3WW",
        "colab": {
          "base_uri": "https://localhost:8080/",
          "height": 0
        },
        "outputId": "a35e4dd9-6da1-465d-faa8-5ca0447df352"
      },
      "execution_count": 9,
      "outputs": [
        {
          "output_type": "stream",
          "name": "stdout",
          "text": [
            "1. number of people aboard: 891\n",
            "2. ratio of male to females: 1.8375796178343948\n",
            "3. number of people per class: Pclass\n",
            "1    216\n",
            "2    184\n",
            "3    491\n",
            "Name: PassengerId, dtype: int64\n",
            "4. aggregates per class:               Age                         Fare                     \n",
            "             mean   min   max count       mean  min       max count\n",
            "Pclass                                                             \n",
            "1       38.233441  0.92  80.0   186  84.154687  0.0  512.3292   216\n",
            "2       29.877630  0.67  70.0   173  20.662183  0.0   73.5000   184\n",
            "3       25.140620  0.42  74.0   355  13.675550  0.0   69.5500   491\n",
            "5. aggregates per class and gender:                      Age                          Fare                     \\\n",
            "                    mean   min   max count        mean      min       max   \n",
            "Pclass Sex                                                                  \n",
            "1      female  34.611765  2.00  63.0    85  106.125798  25.9292  512.3292   \n",
            "       male    41.281386  0.92  80.0   101   67.226127   0.0000  512.3292   \n",
            "2      female  28.722973  2.00  57.0    74   21.970121  10.5000   65.0000   \n",
            "       male    30.740707  0.67  70.0    99   19.741782   0.0000   73.5000   \n",
            "3      female  21.750000  0.75  63.0   102   16.118810   6.7500   69.5500   \n",
            "       male    26.507589  0.42  74.0   253   12.661633   0.0000   69.5500   \n",
            "\n",
            "                     \n",
            "              count  \n",
            "Pclass Sex           \n",
            "1      female    94  \n",
            "       male     122  \n",
            "2      female    76  \n",
            "       male     108  \n",
            "3      female   144  \n",
            "       male     347  \n"
          ]
        }
      ]
    },
    {
      "cell_type": "markdown",
      "source": [
        "### **Task 2 |** MatPlotLib: Plotting Data\n",
        "\n",
        "Import matplotlib and plot age compared to fare"
      ],
      "metadata": {
        "id": "Qg7qOX2cv_yx"
      }
    },
    {
      "cell_type": "code",
      "source": [
        "import pandas as pd\n",
        "import matplotlib.pyplot as plt\n",
        "\n",
        "df2 = pd.read_csv(\"https://raw.githubusercontent.com/datasciencedojo/datasets/master/titanic.csv\")\n",
        "\n",
        "# TODO: Create a scatter plot comparing the age of each person to the fare they paid\n",
        "\n",
        "plt.scatter(df2['Age'], df2['Fare'])\n",
        "plt.xlabel('Age')\n",
        "plt.ylabel('Fare')\n",
        "plt.title('Age vs Fare')\n",
        "plt.show()\n"
      ],
      "metadata": {
        "id": "W6o2tvuywdBu",
        "colab": {
          "base_uri": "https://localhost:8080/",
          "height": 472
        },
        "outputId": "f4af3c31-6c3b-430a-b972-d1d201dc711d"
      },
      "execution_count": 10,
      "outputs": [
        {
          "output_type": "display_data",
          "data": {
            "text/plain": [
              "<Figure size 640x480 with 1 Axes>"
            ],
            "image/png": "[encoded data removed]"
          },
          "metadata": {}
        }
      ]
    }
  ]
}