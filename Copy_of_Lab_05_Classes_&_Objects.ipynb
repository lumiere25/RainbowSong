{
  "nbformat": 4,
  "nbformat_minor": 0,
  "metadata": {
    "colab": {
      "provenance": [],
      "toc_visible": true
    },
    "kernelspec": {
      "name": "python3",
      "display_name": "Python 3"
    },
    "language_info": {
      "name": "python"
    }
  },
  "cells": [
    {
      "cell_type": "markdown",
      "source": [
        "# **LAB #05** - Classes & Objects\n",
        "<br/>\n"
      ],
      "metadata": {
        "id": "qdM8hjkwAnQ5"
      }
    },
    {
      "cell_type": "markdown",
      "source": [
        "><table>\n",
        "##**Lab Overview**\n",
        "\n",
        "These lab questions will help develop your understanding of how to set up classes and create objects.\n",
        "\n",
        "></table>\n",
        "\n",
        "<br/><br/>\n",
        "\n"
      ],
      "metadata": {
        "id": "ax351qT1A2wO"
      }
    },
    {
      "cell_type": "markdown",
      "source": [
        "\n",
        "\n",
        "# **Question #1** - Classes & Objects\n",
        "---\n",
        "<br/>\n",
        "\n",
        "This question will be split across a few different parts to get you to concentrate on specific class functionalities as you progress.<br/><br/>\n",
        "\n",
        "\n",
        "If you get stuck on a part, it is advised to seek help before continuing to the next part as later tasks may be dependent on earlier ones.\n",
        "\n",
        "<br/>\n",
        "\n"
      ],
      "metadata": {
        "id": "Ul0eUARrsGff"
      }
    },
    {
      "cell_type": "markdown",
      "source": [
        "## **Part A** - Creating the Class\n",
        "---\n",
        "\n",
        "In this question, You've been provided the code for creating three student objects. <br/><br/>\n",
        "\n",
        "### Your Task\n",
        "\n",
        "Write the class definition to take in the values provided for the students (name, age, major) and set these values in the class.\n",
        "\n",
        "<br/>\n"
      ],
      "metadata": {
        "id": "1o-fVr9P6xLt"
      }
    },
    {
      "cell_type": "markdown",
      "source": [
        "### Your Answer\n",
        "\n",
        "\n"
      ],
      "metadata": {
        "id": "sedot7JUuhD2"
      }
    },
    {
      "cell_type": "code",
      "source": [
        "# Student Name: Chrissa Hanna\n",
        "# Student Number: 1034793\n",
        "\n",
        "# TODO: Insert class definition:\n",
        "class Student:\n",
        "  def __init__(self, name, age, major):\n",
        "    self.name = name\n",
        "    self.age = age\n",
        "    self.major = major\n",
        "\n",
        "  def __str__(self):\n",
        "      return (f\"Name: {self.name} Age: {self.age} Major: {self.major}\")\n",
        "\n",
        "# Object Creation\n",
        "s1 = Student(\"Greg\", 21, \"Computer Science\")\n",
        "s2 = Student(\"Lucy\", 34, \"Engineering\")\n",
        "s3 = Student(\"Chris\", 19, \"Arts\")\n",
        "\n",
        "# TODO: Print the three objects to test\n",
        "print(s1)\n",
        "print(s2)\n",
        "print(s3)\n",
        "\n"
      ],
      "metadata": {
        "id": "9PP7YGX7odq2",
        "outputId": "04b88585-af46-4778-98b1-c8d1e3d7044a",
        "colab": {
          "base_uri": "https://localhost:8080/"
        }
      },
      "execution_count": null,
      "outputs": [
        {
          "output_type": "stream",
          "name": "stdout",
          "text": [
            "Name: Greg Age: 21 Major: Computer Science\n",
            "Name: Lucy Age: 34 Major: Engineering\n",
            "Name: Chris Age: 19 Major: Arts\n"
          ]
        }
      ]
    },
    {
      "cell_type": "markdown",
      "source": [
        "<Br/><br/>"
      ],
      "metadata": {
        "id": "QFxRj-X-yFdh"
      }
    },
    {
      "cell_type": "markdown",
      "source": [
        "## **Part B** - Addition of a Class Method\n",
        "---\n",
        "\n",
        "Here we will be looking at adding class methods to the program.<br/><br/>\n",
        "\n",
        "### Your Task\n",
        "\n",
        "Copy your code from Part A and paste it into the code block below and remove the `print()` statements that we used to test the objects.<br/><br/>\n",
        "Next, you need to extend the program to include two class functions as described below:<br/><br/>\n",
        "\n",
        "* **Function 1 | Printing Information**<br/>\n",
        "Add a function that nicely prints out the information for each student providing the variable value and what it represents (e.g, `name = Greg`)<br/><br/>\n",
        "\n",
        "* **Function 2 | Birth year?**<br/>\n",
        "The second function you need to create simply takes the student's age and from there, calculates and returns their birth year (ignore specific day/month) <br/><br/>\n",
        "><small>**Note:** You can simply hardcode the current year into the program - but feel free to extend yourself by making use of the `datetime` module</small>\n",
        "\n",
        "\n",
        "\n",
        "\n",
        "<br/>\n"
      ],
      "metadata": {
        "id": "DLlsIPyy7PBr"
      }
    },
    {
      "cell_type": "markdown",
      "source": [
        "### Your Answer"
      ],
      "metadata": {
        "id": "FLqsaUEC_g7E"
      }
    },
    {
      "cell_type": "code",
      "source": [
        "### COPY AND PASTE YOUR ANSWER FROM PART A H1rq ERE\n",
        "\n",
        "class Student:\n",
        "      def __init__(self, name, age, major):\n",
        "        self.name = name\n",
        "        self.age = age\n",
        "        self.major = major\n",
        "\n",
        "      def __str__(self):\n",
        "          return (f\"Name: {self.name} Age: {self.age} Major: {self.major}\")\n",
        "\n",
        "      def print_info(self):\n",
        "            print(f\"Name: {self.name}\")\n",
        "            print(f\"Age: {self.age}\")\n",
        "            print(f\"Major: {self.major}\")\n",
        "            print(\"\")\n",
        "\n",
        "\n",
        "      def birth_year(self):\n",
        "            current_year = 2020\n",
        "            birth_year = current_year - self.age\n",
        "            return birth_year\n",
        "\n",
        "\n",
        "s1 = Student(\"Greg\", 21, \"Computer Science\")\n",
        "s2 = Student(\"Lucy\", 34, \"Engineering\")\n",
        "s3 = Student(\"Chris\", 19, \"Arts\")\n",
        "\n",
        "\n",
        "s1.print_info()\n",
        "s2.print_info()\n",
        "s3.print_info()\n",
        "\n",
        "print(f\"{s1.name}'s birth_year is {s1.birth_year()}\")\n",
        "print(f\"{s2.name}'s birth_year is {s2.birth_year()}\")\n",
        "print(f\"{s3.name}'s birth_year is {s3.birth_year()}\")\n",
        "\n"
      ],
      "metadata": {
        "id": "3DESmazg7u-M",
        "colab": {
          "base_uri": "https://localhost:8080/"
        },
        "outputId": "960055d5-630c-4b3c-f783-9b64ecfa70dd"
      },
      "execution_count": 7,
      "outputs": [
        {
          "output_type": "stream",
          "name": "stdout",
          "text": [
            "Name: Greg\n",
            "Age: 21\n",
            "Major: Computer Science\n",
            "\n",
            "Name: Lucy\n",
            "Age: 34\n",
            "Major: Engineering\n",
            "\n",
            "Name: Chris\n",
            "Age: 19\n",
            "Major: Arts\n",
            "\n",
            "Greg's birth_year is 1999\n",
            "Lucy's birth_year is 1986\n",
            "Chris's birth_year is 2001\n"
          ]
        }
      ]
    },
    {
      "cell_type": "markdown",
      "source": [
        "<br/><br/>"
      ],
      "metadata": {
        "id": "smBNf2JC7yzD"
      }
    },
    {
      "cell_type": "markdown",
      "source": [
        "## **Part C** - Moving to a List of Objects\n",
        "---\n",
        "\n",
        "Here we will be looking at moving our Student objects into a list to make the program more efficient.<br/><br/>\n",
        "\n",
        "### Your Task\n",
        "\n",
        "Copy your code from Part B and paste it into the code block below.<br/><br/>\n",
        "Next, you need to modify the program to:\n",
        "\n",
        "1. Move the three student objects so they are held within a list\n",
        "2. Add a loop to iterate through the list of objects and execute both functions\n",
        "3. Add (at least) one more record to the list with your own data\n",
        "<br/><br/>\n",
        "\n"
      ],
      "metadata": {
        "id": "3IHb76Mr-Hdj"
      }
    },
    {
      "cell_type": "markdown",
      "source": [
        "### Your Answer"
      ],
      "metadata": {
        "id": "SCY_xtUk_h-e"
      }
    },
    {
      "cell_type": "code",
      "source": [
        "# COPY CODE FROM PART B HERE\n",
        "class Student:\n",
        "      def __init__(self, name, age, major):\n",
        "        self.name = name\n",
        "        self.age = age\n",
        "        self.major = major\n",
        "\n",
        "      def __str__(self):\n",
        "          return (f\"Name: {self.name} Age: {self.age} Major: {self.major}\")\n",
        "\n",
        "      def print_info(self):\n",
        "            print(f\"Name: {self.name}\")\n",
        "            print(f\"Age: {self.age}\")\n",
        "            print(f\"Major: {self.major}\")\n",
        "            print(\"\")\n",
        "\n",
        "\n",
        "      def birth_year(self):\n",
        "            current_year = 2020\n",
        "            birth_year = current_year - self.age\n",
        "            return birth_year\n",
        "\n",
        "\n",
        "s1 = Student(\"Greg\", 21, \"Computer Science\")\n",
        "s2 = Student(\"Lucy\", 34, \"Engineering\")\n",
        "s3 = Student(\"Chris\", 19, \"Arts\")\n",
        "s4 = Student(\"Krissy\", 24, \"Graphic Design\")\n",
        "\n",
        "\n",
        "s1.print_info()\n",
        "s2.print_info()\n",
        "s3.print_info()\n",
        "s4.print_info()\n",
        "\n",
        "print(f\"{s1.name}'s birth_year is {s1.birth_year()}\")\n",
        "print(f\"{s2.name}'s birth_year is {s2.birth_year()}\")\n",
        "print(f\"{s3.name}'s birth_year is {s3.birth_year()}\")\n",
        "print(f\"{s4.name}'s birth_year is {s4.birth_year()}\")\n",
        "\n",
        "students = [s1, s2, s3, s4]\n",
        "\n",
        "for student in students:\n",
        "     student.print_info\n",
        "     print(f\"{student.name}'s birthyear is {student.birth_year()} \")\n",
        "\n"
      ],
      "metadata": {
        "id": "9_OmC1dG_KV3",
        "colab": {
          "base_uri": "https://localhost:8080/"
        },
        "outputId": "8e7b116f-d60d-487d-fa83-ccc2ea9c95d0"
      },
      "execution_count": 8,
      "outputs": [
        {
          "output_type": "stream",
          "name": "stdout",
          "text": [
            "Name: Greg\n",
            "Age: 21\n",
            "Major: Computer Science\n",
            "\n",
            "Name: Lucy\n",
            "Age: 34\n",
            "Major: Engineering\n",
            "\n",
            "Name: Chris\n",
            "Age: 19\n",
            "Major: Arts\n",
            "\n",
            "Name: Krissy\n",
            "Age: 24\n",
            "Major: Graphic Design\n",
            "\n",
            "Greg's birth_year is 1999\n",
            "Lucy's birth_year is 1986\n",
            "Chris's birth_year is 2001\n",
            "Krissy's birth_year is 1996\n",
            "Greg's birthyear is 1999 \n",
            "Lucy's birthyear is 1986 \n",
            "Chris's birthyear is 2001 \n",
            "Krissy's birthyear is 1996 \n"
          ]
        }
      ]
    },
    {
      "cell_type": "markdown",
      "source": [
        "<br/><br/>"
      ],
      "metadata": {
        "id": "Bc2gMp6g_MoO"
      }
    },
    {
      "cell_type": "markdown",
      "source": [
        "# **Submission**\n",
        "---\n",
        "\n",
        "When you believe you have the program correctly working, please run the program and enter valid details for each program so that the output is apparent.\n",
        "<br/><br/>\n",
        "When you are ready to submit please\n",
        "\n",
        "*   go to `File` -> `Print` -> `Print PDF` and then upload and submit in the LMS.\n",
        "  *   feel free to also submit your artwork from question 1 to the LMS if you'd like to\n",
        "\n",
        "*   save your file to GitHub via: `File` -> `Save a copy in GitHub`\n"
      ],
      "metadata": {
        "id": "CxZ8SilaD9Gq"
      }
    }
  ]
}